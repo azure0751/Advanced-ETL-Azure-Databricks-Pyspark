{
 "cells": [
  {
   "cell_type": "code",
   "execution_count": 0,
   "metadata": {
    "application/vnd.databricks.v1+cell": {
     "cellMetadata": {
      "byteLimit": 2048000,
      "rowLimit": 10000
     },
     "inputWidgets": {},
     "nuid": "0f20030e-d276-4d84-9d1c-1c6452241048",
     "showTitle": false,
     "tableResultSettingsMap": {},
     "title": ""
    }
   },
   "outputs": [],
   "source": [
    "# Databricks notebook source\n",
    "# MAGIC %md\n",
    "# MAGIC ## Databricks Filesystem Operations using Python\n",
    "# MAGIC This notebook demonstrates common file system (DBFS) commands.\n"
   ]
  },
  {
   "cell_type": "code",
   "execution_count": 0,
   "metadata": {
    "application/vnd.databricks.v1+cell": {
     "cellMetadata": {
      "byteLimit": 2048000,
      "rowLimit": 10000
     },
     "inputWidgets": {},
     "nuid": "3b4c32a1-ab25-43fb-81d8-2dd5395725c5",
     "showTitle": false,
     "tableResultSettingsMap": {},
     "title": ""
    }
   },
   "outputs": [],
   "source": [
    "# List files in a directory\n",
    "dbutils.fs.ls(\"/databricks-datasets\")\n"
   ]
  },
  {
   "cell_type": "code",
   "execution_count": 0,
   "metadata": {
    "application/vnd.databricks.v1+cell": {
     "cellMetadata": {
      "byteLimit": 2048000,
      "rowLimit": 10000
     },
     "inputWidgets": {},
     "nuid": "15bd06df-f9df-492d-86c6-f4112dbd91b9",
     "showTitle": false,
     "tableResultSettingsMap": {},
     "title": ""
    }
   },
   "outputs": [],
   "source": [
    "# Make a new directory\n",
    "dbutils.fs.mkdirs(\"/mnt/demo-folder\")"
   ]
  },
  {
   "cell_type": "code",
   "execution_count": 0,
   "metadata": {
    "application/vnd.databricks.v1+cell": {
     "cellMetadata": {
      "byteLimit": 2048000,
      "rowLimit": 10000
     },
     "inputWidgets": {},
     "nuid": "f6a79f8e-7c43-4a17-a2f7-8ecd0d035e80",
     "showTitle": false,
     "tableResultSettingsMap": {},
     "title": ""
    }
   },
   "outputs": [],
   "source": [
    "# Put (create) a file in DBFS\n",
    "dbutils.fs.put(\"/mnt/demo-folder/hello.txt\", \"Hello, Databricks!\\nThis is a sample file.\", overwrite=True)"
   ]
  },
  {
   "cell_type": "code",
   "execution_count": 0,
   "metadata": {
    "application/vnd.databricks.v1+cell": {
     "cellMetadata": {
      "byteLimit": 2048000,
      "rowLimit": 10000
     },
     "inputWidgets": {},
     "nuid": "fb8edc9f-9e9a-4268-8471-fed813c63104",
     "showTitle": false,
     "tableResultSettingsMap": {},
     "title": ""
    }
   },
   "outputs": [],
   "source": [
    "# Read a file\n",
    "display(dbutils.fs.head(\"/mnt/demo-folder/hello.txt\"))\n"
   ]
  },
  {
   "cell_type": "code",
   "execution_count": 0,
   "metadata": {
    "application/vnd.databricks.v1+cell": {
     "cellMetadata": {
      "byteLimit": 2048000,
      "rowLimit": 10000
     },
     "inputWidgets": {},
     "nuid": "a88f04b1-627a-4112-967a-5e4f30c313fb",
     "showTitle": false,
     "tableResultSettingsMap": {},
     "title": ""
    }
   },
   "outputs": [],
   "source": [
    "# Copy file\n",
    "dbutils.fs.cp(\"/mnt/demo-folder/hello.txt\", \"/mnt/demo-folder/hello_copy.txt\")"
   ]
  },
  {
   "cell_type": "code",
   "execution_count": 0,
   "metadata": {
    "application/vnd.databricks.v1+cell": {
     "cellMetadata": {
      "byteLimit": 2048000,
      "rowLimit": 10000
     },
     "inputWidgets": {},
     "nuid": "c8357788-759c-4a74-8ecb-49e714247914",
     "showTitle": false,
     "tableResultSettingsMap": {},
     "title": ""
    }
   },
   "outputs": [],
   "source": [
    "# Move/Rename file\n",
    "dbutils.fs.mv(\"/mnt/demo-folder/hello_copy.txt\", \"/mnt/demo-folder/hello_renamed.txt\")"
   ]
  },
  {
   "cell_type": "code",
   "execution_count": 0,
   "metadata": {
    "application/vnd.databricks.v1+cell": {
     "cellMetadata": {
      "byteLimit": 2048000,
      "rowLimit": 10000
     },
     "inputWidgets": {},
     "nuid": "def48886-f7f8-42e7-9fc9-f9d336ca0706",
     "showTitle": false,
     "tableResultSettingsMap": {},
     "title": ""
    }
   },
   "outputs": [],
   "source": [
    "%fs\n",
    "ls /mnt/demo-folder"
   ]
  },
  {
   "cell_type": "code",
   "execution_count": 0,
   "metadata": {
    "application/vnd.databricks.v1+cell": {
     "cellMetadata": {
      "byteLimit": 2048000,
      "rowLimit": 10000
     },
     "inputWidgets": {},
     "nuid": "10fcc0d1-9cd1-4c76-aafa-b056fcba1e81",
     "showTitle": false,
     "tableResultSettingsMap": {},
     "title": ""
    }
   },
   "outputs": [],
   "source": [
    "\n",
    "# Remove a file\n",
    "dbutils.fs.rm(\"/mnt/demo-folder/hello_renamed.txt\")"
   ]
  },
  {
   "cell_type": "code",
   "execution_count": 0,
   "metadata": {
    "application/vnd.databricks.v1+cell": {
     "cellMetadata": {
      "byteLimit": 2048000,
      "rowLimit": 10000
     },
     "inputWidgets": {},
     "nuid": "0a79c3ff-b731-4c11-83db-88200cce44d6",
     "showTitle": false,
     "tableResultSettingsMap": {},
     "title": ""
    }
   },
   "outputs": [],
   "source": [
    "# Recursively remove a directory\n",
    "dbutils.fs.rm(\"/mnt/demo-folder\", recurse=True)"
   ]
  },
  {
   "cell_type": "code",
   "execution_count": 0,
   "metadata": {
    "application/vnd.databricks.v1+cell": {
     "cellMetadata": {
      "byteLimit": 2048000,
      "rowLimit": 10000
     },
     "inputWidgets": {},
     "nuid": "b397b3aa-38d0-45fe-871a-7357b510f0d5",
     "showTitle": false,
     "tableResultSettingsMap": {},
     "title": ""
    }
   },
   "outputs": [],
   "source": [
    "# MAGIC %md\n",
    "# MAGIC ### Working with Local File API\n",
    "# MAGIC You can also use standard Python file operations for local driver files.\n"
   ]
  },
  {
   "cell_type": "code",
   "execution_count": 0,
   "metadata": {
    "application/vnd.databricks.v1+cell": {
     "cellMetadata": {
      "byteLimit": 2048000,
      "rowLimit": 10000
     },
     "inputWidgets": {},
     "nuid": "2b45c888-7da3-4731-9938-8069feb968a0",
     "showTitle": false,
     "tableResultSettingsMap": {},
     "title": ""
    }
   },
   "outputs": [],
   "source": [
    "# Write to local driver\n",
    "with open(\"/tmp/local_test.txt\", \"w\") as f:\n",
    "    f.write(\"This is written to local driver storage.\\n\")\n"
   ]
  },
  {
   "cell_type": "code",
   "execution_count": 0,
   "metadata": {
    "application/vnd.databricks.v1+cell": {
     "cellMetadata": {
      "byteLimit": 2048000,
      "rowLimit": 10000
     },
     "inputWidgets": {},
     "nuid": "6dc4bd2c-4630-44fb-9ae3-4336fbec28c0",
     "showTitle": false,
     "tableResultSettingsMap": {},
     "title": ""
    }
   },
   "outputs": [],
   "source": [
    "# Read local driver file\n",
    "with open(\"/tmp/local_test.txt\", \"r\") as f:\n",
    "    print(f.read())\n"
   ]
  },
  {
   "cell_type": "code",
   "execution_count": 0,
   "metadata": {
    "application/vnd.databricks.v1+cell": {
     "cellMetadata": {
      "byteLimit": 2048000,
      "rowLimit": 10000
     },
     "inputWidgets": {},
     "nuid": "75abeb73-b366-489a-ae02-b64e37a2ab00",
     "showTitle": false,
     "tableResultSettingsMap": {},
     "title": ""
    }
   },
   "outputs": [],
   "source": [
    "# Move file between local driver and DBFS\n",
    "dbutils.fs.cp(\"file:/tmp/local_test.txt\", \"dbfs:/mnt/local_copy.txt\")\n"
   ]
  },
  {
   "cell_type": "code",
   "execution_count": 0,
   "metadata": {
    "application/vnd.databricks.v1+cell": {
     "cellMetadata": {
      "byteLimit": 2048000,
      "rowLimit": 10000
     },
     "inputWidgets": {},
     "nuid": "236fa56d-4b7c-4884-85cc-a147dd6e01aa",
     "showTitle": false,
     "tableResultSettingsMap": {},
     "title": ""
    }
   },
   "outputs": [],
   "source": [
    "# Verify copied file\n",
    "display(dbutils.fs.head(\"dbfs:/mnt/local_copy.txt\"))"
   ]
  },
  {
   "cell_type": "code",
   "execution_count": 0,
   "metadata": {
    "application/vnd.databricks.v1+cell": {
     "cellMetadata": {
      "byteLimit": 2048000,
      "rowLimit": 10000
     },
     "inputWidgets": {},
     "nuid": "96f5b99b-e0b3-4766-ba51-b2bf27981f8d",
     "showTitle": false,
     "tableResultSettingsMap": {},
     "title": ""
    }
   },
   "outputs": [],
   "source": [
    "# List contents of a directory\n",
    "dbutils.fs.ls(\"/databricks-datasets\")\n",
    "\n",
    "# Create a directory\n",
    "dbutils.fs.mkdirs(\"/mnt/fs-demo\")\n",
    "\n",
    "# Delete a directory (recursively)\n",
    "dbutils.fs.rm(\"/mnt/fs-demo\", recurse=True)\n",
    "\n",
    "# Check if a path exists (using try/except)\n",
    "try:\n",
    "    dbutils.fs.ls(\"/mnt/fs-demo\")\n",
    "    print(\"Path exists\")\n",
    "except Exception as e:\n",
    "    print(\"Path does not exist\")\n",
    "\n",
    "# Create and write a file\n",
    "dbutils.fs.put(\"/mnt/fs-demo/sample.txt\", \"First line\\nSecond line\", overwrite=True)\n",
    "\n",
    "# Append to an existing file\n",
    "dbutils.fs.put(\"/mnt/fs-demo/sample.txt\", \"Appended text\", overwrite=True)\n",
    "\n",
    "# View contents of a file\n",
    "print(dbutils.fs.head(\"/mnt/fs-demo/sample.txt\", 100))  # read first 100 chars\n",
    "\n",
    "# Copy file inside DBFS\n",
    "dbutils.fs.cp(\"/mnt/fs-demo/sample.txt\", \"/mnt/fs-demo/sample_copy.txt\")\n",
    "\n",
    "# Move or Rename file\n",
    "dbutils.fs.mv(\"/mnt/fs-demo/sample_copy.txt\", \"/mnt/fs-demo/renamed.txt\")\n",
    "\n",
    "# Delete a single file\n",
    "dbutils.fs.rm(\"/mnt/fs-demo/renamed.txt\")\n",
    "\n",
    "# Put a large file in chunks (useful for >1MB content)\n",
    "dbutils.fs.put(\"/mnt/fs-demo/large.txt\", \"Line 1\", overwrite=True)\n",
    "existing_content = dbutils.fs.head(\"/mnt/fs-demo/large.txt\", 1000); dbutils.fs.put(\"/mnt/fs-demo/large.txt\", existing_content + \"\\nLine 2\", overwrite=True)\n",
    "\n",
    "# Display file with Databricks widget\n",
    "display(dbutils.fs.head(\"/mnt/fs-demo/large.txt\"))\n",
    "\n",
    "# Save local file → DBFS\n",
    "dbutils.fs.cp(\"file:/tmp/local_test.txt\", \"dbfs:/mnt/fs-demo/from_local.txt\")\n",
    "\n",
    "# Save DBFS file → local\n",
    "dbutils.fs.cp(\"dbfs:/mnt/fs-demo/sample.txt\", \"file:/tmp/from_dbfs.txt\")\n"
   ]
  },
  {
   "cell_type": "code",
   "execution_count": 0,
   "metadata": {
    "application/vnd.databricks.v1+cell": {
     "cellMetadata": {
      "byteLimit": 2048000,
      "rowLimit": 10000
     },
     "inputWidgets": {},
     "nuid": "f9400a97-90f3-4b4b-b009-3bfeaf7bcf23",
     "showTitle": false,
     "tableResultSettingsMap": {},
     "title": ""
    }
   },
   "outputs": [],
   "source": [
    "# Verify all mounts\n",
    "dbutils.fs.mounts()"
   ]
  }
 ],
 "metadata": {
  "application/vnd.databricks.v1+notebook": {
   "computePreferences": null,
   "dashboards": [],
   "environmentMetadata": {
    "base_environment": "",
    "environment_version": "3"
   },
   "inputWidgetPreferences": null,
   "language": "python",
   "notebookMetadata": {
    "mostRecentlyExecutedCommandWithImplicitDF": {
     "commandId": 4795068605387396,
     "dataframes": [
      "_sqldf"
     ]
    },
    "pythonIndentUnit": 4
   },
   "notebookName": "File-System_commands",
   "widgets": {}
  },
  "language_info": {
   "name": "python"
  }
 },
 "nbformat": 4,
 "nbformat_minor": 0
}
